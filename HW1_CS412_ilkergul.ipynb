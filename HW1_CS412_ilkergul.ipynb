{
  "nbformat": 4,
  "nbformat_minor": 0,
  "metadata": {
    "colab": {
      "name": "HW1-CS412-ilkergul.ipynb",
      "provenance": [],
      "collapsed_sections": []
    },
    "kernelspec": {
      "name": "python3",
      "display_name": "Python 3"
    },
    "accelerator": "GPU"
  },
  "cells": [
    {
      "cell_type": "markdown",
      "metadata": {
        "id": "voHKcAfRfdNY"
      },
      "source": [
        "# CS412 - Machine Learning - 2021\n",
        "## Homework 1\n",
        "100 pts\n",
        "\n",
        "\n",
        "## Goal\n",
        "\n",
        "The goal of this homework is three-fold:\n",
        "\n",
        "*   Introduction to the machine learning experimental set up \n",
        "*   Gain experience with Decision Tree and k-NN approaches\n",
        "*   Gain experience with the Scikit library\n",
        "\n",
        "## Dataset\n",
        "**MNIST** is a collection of 28x28 grayscale images of digits (0-9); hence each pixel is a gray-level from 0-255. \n",
        "\n",
        "**Download the data from Keras. Reserve 20% of the training data for validation** (no need for cross-validation as you have plenty of data) and **use the rest for development (learning your models). The official test data (10,000 samples) should only be used for testing at the end, and not model selection.**\n",
        "\n",
        "## Task \n",
        "Build a classifier (decision tree and k-NN) with the Scikit library function calls to classify digits in the MNIST dataset.\n",
        "\n",
        "## Software: \n",
        "\n",
        "You may find the necessary function references here: \n",
        "\n",
        "http://scikit-learn.org/stable/supervised_learning.html\n",
        "\n",
        "When you search for decision tree for instance, you should find the relevant function and explained parameters, easily.\n",
        "\n",
        "## Submission: \n",
        "Fill this notebook. Write the report section at the end, removing the part in italics. \n",
        "\n",
        "You should prepare a separate pdf document as your homework (name hw1-CS412-yourname.pdf) which consists of the report (Part 8) of the notebook for easy viewing -and- include a link to your notebook from within the pdf report (make sure to include the link obtained from the #share link on top right). "
      ]
    },
    {
      "cell_type": "code",
      "metadata": {
        "id": "S3-TDBWlhrc1"
      },
      "source": [
        ""
      ],
      "execution_count": null,
      "outputs": []
    },
    {
      "cell_type": "markdown",
      "metadata": {
        "id": "_YOYiWvHbNDW"
      },
      "source": [
        "##1) Initialize\n",
        "\n",
        "*   First make a copy of the notebook given to you as a starter.\n",
        "\n",
        "*   Make sure you choose Connect form upper right.\n"
      ]
    },
    {
      "cell_type": "markdown",
      "metadata": {
        "id": "MM-wwHR8qL0M"
      },
      "source": [
        "## 2) Load training dataset\n",
        "\n",
        "*  Read from Keras library.\n",
        "\n"
      ]
    },
    {
      "cell_type": "code",
      "metadata": {
        "id": "vsX8gEbCUqPr",
        "colab": {
          "base_uri": "https://localhost:8080/"
        },
        "outputId": "33d79b83-0e73-46e4-b80a-2065ffedc885"
      },
      "source": [
        "#this cell can be skipped at the running time\n",
        "from keras.datasets import mnist\n",
        "(X_train, Y_train), (X_test, Y_test) = mnist.load_data()"
      ],
      "execution_count": null,
      "outputs": [
        {
          "output_type": "stream",
          "name": "stdout",
          "text": [
            "Downloading data from https://storage.googleapis.com/tensorflow/tf-keras-datasets/mnist.npz\n",
            "11493376/11490434 [==============================] - 0s 0us/step\n",
            "11501568/11490434 [==============================] - 0s 0us/step\n"
          ]
        }
      ]
    },
    {
      "cell_type": "code",
      "metadata": {
        "id": "Iz3iMpjVfa5I",
        "colab": {
          "base_uri": "https://localhost:8080/"
        },
        "outputId": "7c2e896f-018f-4ecd-e7b7-47aa210a6463"
      },
      "source": [
        "# Load the Pandas libraries with alias 'pd' \n",
        "import pandas as pd \n",
        "import numpy as np # I am loading the numpy library\n",
        "import matplotlib.pyplot as plt # I am loading the pyplot library\n",
        "from timeit import default_timer as timer\n",
        "\n",
        "# Read data \n",
        "from keras.datasets import mnist\n",
        "(x_train, y_train), (x_test, y_test) = mnist.load_data()\n"
      ],
      "execution_count": null,
      "outputs": [
        {
          "output_type": "stream",
          "name": "stdout",
          "text": [
            "Downloading data from https://storage.googleapis.com/tensorflow/tf-keras-datasets/mnist.npz\n",
            "11493376/11490434 [==============================] - 0s 0us/step\n",
            "11501568/11490434 [==============================] - 0s 0us/step\n"
          ]
        }
      ]
    },
    {
      "cell_type": "markdown",
      "metadata": {
        "id": "8NdW2ItjHLxJ"
      },
      "source": [
        "##3) Understanding the dataset\n",
        "\n",
        "There are alot of functions that can be used to know more about this dataset\n",
        "\n",
        "- What is the shape of the training set (num of samples X number of attributes) ***[shape function can be used]***\n",
        "\n",
        "- Display attribute names ***[columns function can be used]***\n",
        "\n",
        "- Display the first 5 rows from training dataset ***[head or sample functions can be used]***\n",
        "\n",
        ".."
      ]
    },
    {
      "cell_type": "code",
      "metadata": {
        "id": "YP8OtGYNVg0t"
      },
      "source": [
        "#this cell can be skipped at the running\n",
        "#print attribute names\n"
      ],
      "execution_count": null,
      "outputs": []
    },
    {
      "cell_type": "code",
      "metadata": {
        "id": "CA_AjGQasjvS",
        "colab": {
          "base_uri": "https://localhost:8080/",
          "height": 559
        },
        "outputId": "54873498-849c-44fb-e322-3d50d4ecb31f"
      },
      "source": [
        "# print shape\n",
        "print('Data Dimensionality: ')\n",
        "print(\"Training data shape is as follows: \", x_train.shape)\n",
        "print(\"Test data shape is as follows: \", x_test.shape)\n",
        "\n",
        "# reshape the data into usable vectorized way\n",
        "x_trainf = x_train.reshape(x_train.shape[0], -1) \n",
        "# -1 calculates the remaining dimension automatically\n",
        "x_testf = x_test.reshape(x_test.shape[0], -1) \n",
        "# it is for flattening the data indeed\n",
        "\n",
        "print(\"\\nAfter reshaping process\")\n",
        "print('Data Dimensionality: ')\n",
        "print(\"Training data shape is as follows: \", x_trainf.shape)\n",
        "print(\"Test data shape is as follows: \", x_testf.shape)\n",
        "\n",
        "x_traindf = pd.DataFrame(x_trainf)\n",
        "# I am going to convert ytrain to a dataframe and column name as label \n",
        "#so that it is easier to follow \n",
        "# when we are going to concatenate with the x_train\n",
        "y_traindf = pd.DataFrame(y_train, columns = [\"label\"])\n",
        "\n",
        "# now it is time for concatenation\n",
        "train_df = pd.concat((x_traindf, y_traindf), axis=1)\n",
        "\n",
        "#Additionally, we can get some general information about the dataframe \n",
        "#by using info function\n",
        "\n",
        "# we can also show the column names(attributes)\n",
        "print('\\nAttributes are as folllows: ')\n",
        "print(train_df.columns)\n",
        "\n",
        "# print first 5 rows in your dataset\n",
        "print('\\nHead of Data: ')\n",
        "train_df.head() #5 rows automatically \n",
        "#if you want you can add parameter 10, 20, etc. to see different \n",
        "#amount of rows in the dataset\n",
        "\n"
      ],
      "execution_count": null,
      "outputs": [
        {
          "output_type": "stream",
          "name": "stdout",
          "text": [
            "Data Dimensionality: \n",
            "Training data shape is as follows:  (60000, 28, 28)\n",
            "Test data shape is as follows:  (10000, 28, 28)\n",
            "\n",
            "After reshaping process\n",
            "Data Dimensionality: \n",
            "Training data shape is as follows:  (60000, 784)\n",
            "Test data shape is as follows:  (10000, 784)\n",
            "\n",
            "Attributes are as folllows: \n",
            "Index([      0,       1,       2,       3,       4,       5,       6,       7,\n",
            "             8,       9,\n",
            "       ...\n",
            "           775,     776,     777,     778,     779,     780,     781,     782,\n",
            "           783, 'label'],\n",
            "      dtype='object', length=785)\n",
            "\n",
            "Head of Data: \n"
          ]
        },
        {
          "output_type": "execute_result",
          "data": {
            "text/html": [
              "<div>\n",
              "<style scoped>\n",
              "    .dataframe tbody tr th:only-of-type {\n",
              "        vertical-align: middle;\n",
              "    }\n",
              "\n",
              "    .dataframe tbody tr th {\n",
              "        vertical-align: top;\n",
              "    }\n",
              "\n",
              "    .dataframe thead th {\n",
              "        text-align: right;\n",
              "    }\n",
              "</style>\n",
              "<table border=\"1\" class=\"dataframe\">\n",
              "  <thead>\n",
              "    <tr style=\"text-align: right;\">\n",
              "      <th></th>\n",
              "      <th>0</th>\n",
              "      <th>1</th>\n",
              "      <th>2</th>\n",
              "      <th>3</th>\n",
              "      <th>4</th>\n",
              "      <th>5</th>\n",
              "      <th>6</th>\n",
              "      <th>7</th>\n",
              "      <th>8</th>\n",
              "      <th>9</th>\n",
              "      <th>10</th>\n",
              "      <th>11</th>\n",
              "      <th>12</th>\n",
              "      <th>13</th>\n",
              "      <th>14</th>\n",
              "      <th>15</th>\n",
              "      <th>16</th>\n",
              "      <th>17</th>\n",
              "      <th>18</th>\n",
              "      <th>19</th>\n",
              "      <th>20</th>\n",
              "      <th>21</th>\n",
              "      <th>22</th>\n",
              "      <th>23</th>\n",
              "      <th>24</th>\n",
              "      <th>25</th>\n",
              "      <th>26</th>\n",
              "      <th>27</th>\n",
              "      <th>28</th>\n",
              "      <th>29</th>\n",
              "      <th>30</th>\n",
              "      <th>31</th>\n",
              "      <th>32</th>\n",
              "      <th>33</th>\n",
              "      <th>34</th>\n",
              "      <th>35</th>\n",
              "      <th>36</th>\n",
              "      <th>37</th>\n",
              "      <th>38</th>\n",
              "      <th>39</th>\n",
              "      <th>...</th>\n",
              "      <th>745</th>\n",
              "      <th>746</th>\n",
              "      <th>747</th>\n",
              "      <th>748</th>\n",
              "      <th>749</th>\n",
              "      <th>750</th>\n",
              "      <th>751</th>\n",
              "      <th>752</th>\n",
              "      <th>753</th>\n",
              "      <th>754</th>\n",
              "      <th>755</th>\n",
              "      <th>756</th>\n",
              "      <th>757</th>\n",
              "      <th>758</th>\n",
              "      <th>759</th>\n",
              "      <th>760</th>\n",
              "      <th>761</th>\n",
              "      <th>762</th>\n",
              "      <th>763</th>\n",
              "      <th>764</th>\n",
              "      <th>765</th>\n",
              "      <th>766</th>\n",
              "      <th>767</th>\n",
              "      <th>768</th>\n",
              "      <th>769</th>\n",
              "      <th>770</th>\n",
              "      <th>771</th>\n",
              "      <th>772</th>\n",
              "      <th>773</th>\n",
              "      <th>774</th>\n",
              "      <th>775</th>\n",
              "      <th>776</th>\n",
              "      <th>777</th>\n",
              "      <th>778</th>\n",
              "      <th>779</th>\n",
              "      <th>780</th>\n",
              "      <th>781</th>\n",
              "      <th>782</th>\n",
              "      <th>783</th>\n",
              "      <th>label</th>\n",
              "    </tr>\n",
              "  </thead>\n",
              "  <tbody>\n",
              "    <tr>\n",
              "      <th>0</th>\n",
              "      <td>0</td>\n",
              "      <td>0</td>\n",
              "      <td>0</td>\n",
              "      <td>0</td>\n",
              "      <td>0</td>\n",
              "      <td>0</td>\n",
              "      <td>0</td>\n",
              "      <td>0</td>\n",
              "      <td>0</td>\n",
              "      <td>0</td>\n",
              "      <td>0</td>\n",
              "      <td>0</td>\n",
              "      <td>0</td>\n",
              "      <td>0</td>\n",
              "      <td>0</td>\n",
              "      <td>0</td>\n",
              "      <td>0</td>\n",
              "      <td>0</td>\n",
              "      <td>0</td>\n",
              "      <td>0</td>\n",
              "      <td>0</td>\n",
              "      <td>0</td>\n",
              "      <td>0</td>\n",
              "      <td>0</td>\n",
              "      <td>0</td>\n",
              "      <td>0</td>\n",
              "      <td>0</td>\n",
              "      <td>0</td>\n",
              "      <td>0</td>\n",
              "      <td>0</td>\n",
              "      <td>0</td>\n",
              "      <td>0</td>\n",
              "      <td>0</td>\n",
              "      <td>0</td>\n",
              "      <td>0</td>\n",
              "      <td>0</td>\n",
              "      <td>0</td>\n",
              "      <td>0</td>\n",
              "      <td>0</td>\n",
              "      <td>0</td>\n",
              "      <td>...</td>\n",
              "      <td>0</td>\n",
              "      <td>0</td>\n",
              "      <td>0</td>\n",
              "      <td>0</td>\n",
              "      <td>0</td>\n",
              "      <td>0</td>\n",
              "      <td>0</td>\n",
              "      <td>0</td>\n",
              "      <td>0</td>\n",
              "      <td>0</td>\n",
              "      <td>0</td>\n",
              "      <td>0</td>\n",
              "      <td>0</td>\n",
              "      <td>0</td>\n",
              "      <td>0</td>\n",
              "      <td>0</td>\n",
              "      <td>0</td>\n",
              "      <td>0</td>\n",
              "      <td>0</td>\n",
              "      <td>0</td>\n",
              "      <td>0</td>\n",
              "      <td>0</td>\n",
              "      <td>0</td>\n",
              "      <td>0</td>\n",
              "      <td>0</td>\n",
              "      <td>0</td>\n",
              "      <td>0</td>\n",
              "      <td>0</td>\n",
              "      <td>0</td>\n",
              "      <td>0</td>\n",
              "      <td>0</td>\n",
              "      <td>0</td>\n",
              "      <td>0</td>\n",
              "      <td>0</td>\n",
              "      <td>0</td>\n",
              "      <td>0</td>\n",
              "      <td>0</td>\n",
              "      <td>0</td>\n",
              "      <td>0</td>\n",
              "      <td>5</td>\n",
              "    </tr>\n",
              "    <tr>\n",
              "      <th>1</th>\n",
              "      <td>0</td>\n",
              "      <td>0</td>\n",
              "      <td>0</td>\n",
              "      <td>0</td>\n",
              "      <td>0</td>\n",
              "      <td>0</td>\n",
              "      <td>0</td>\n",
              "      <td>0</td>\n",
              "      <td>0</td>\n",
              "      <td>0</td>\n",
              "      <td>0</td>\n",
              "      <td>0</td>\n",
              "      <td>0</td>\n",
              "      <td>0</td>\n",
              "      <td>0</td>\n",
              "      <td>0</td>\n",
              "      <td>0</td>\n",
              "      <td>0</td>\n",
              "      <td>0</td>\n",
              "      <td>0</td>\n",
              "      <td>0</td>\n",
              "      <td>0</td>\n",
              "      <td>0</td>\n",
              "      <td>0</td>\n",
              "      <td>0</td>\n",
              "      <td>0</td>\n",
              "      <td>0</td>\n",
              "      <td>0</td>\n",
              "      <td>0</td>\n",
              "      <td>0</td>\n",
              "      <td>0</td>\n",
              "      <td>0</td>\n",
              "      <td>0</td>\n",
              "      <td>0</td>\n",
              "      <td>0</td>\n",
              "      <td>0</td>\n",
              "      <td>0</td>\n",
              "      <td>0</td>\n",
              "      <td>0</td>\n",
              "      <td>0</td>\n",
              "      <td>...</td>\n",
              "      <td>0</td>\n",
              "      <td>0</td>\n",
              "      <td>0</td>\n",
              "      <td>0</td>\n",
              "      <td>0</td>\n",
              "      <td>0</td>\n",
              "      <td>0</td>\n",
              "      <td>0</td>\n",
              "      <td>0</td>\n",
              "      <td>0</td>\n",
              "      <td>0</td>\n",
              "      <td>0</td>\n",
              "      <td>0</td>\n",
              "      <td>0</td>\n",
              "      <td>0</td>\n",
              "      <td>0</td>\n",
              "      <td>0</td>\n",
              "      <td>0</td>\n",
              "      <td>0</td>\n",
              "      <td>0</td>\n",
              "      <td>0</td>\n",
              "      <td>0</td>\n",
              "      <td>0</td>\n",
              "      <td>0</td>\n",
              "      <td>0</td>\n",
              "      <td>0</td>\n",
              "      <td>0</td>\n",
              "      <td>0</td>\n",
              "      <td>0</td>\n",
              "      <td>0</td>\n",
              "      <td>0</td>\n",
              "      <td>0</td>\n",
              "      <td>0</td>\n",
              "      <td>0</td>\n",
              "      <td>0</td>\n",
              "      <td>0</td>\n",
              "      <td>0</td>\n",
              "      <td>0</td>\n",
              "      <td>0</td>\n",
              "      <td>0</td>\n",
              "    </tr>\n",
              "    <tr>\n",
              "      <th>2</th>\n",
              "      <td>0</td>\n",
              "      <td>0</td>\n",
              "      <td>0</td>\n",
              "      <td>0</td>\n",
              "      <td>0</td>\n",
              "      <td>0</td>\n",
              "      <td>0</td>\n",
              "      <td>0</td>\n",
              "      <td>0</td>\n",
              "      <td>0</td>\n",
              "      <td>0</td>\n",
              "      <td>0</td>\n",
              "      <td>0</td>\n",
              "      <td>0</td>\n",
              "      <td>0</td>\n",
              "      <td>0</td>\n",
              "      <td>0</td>\n",
              "      <td>0</td>\n",
              "      <td>0</td>\n",
              "      <td>0</td>\n",
              "      <td>0</td>\n",
              "      <td>0</td>\n",
              "      <td>0</td>\n",
              "      <td>0</td>\n",
              "      <td>0</td>\n",
              "      <td>0</td>\n",
              "      <td>0</td>\n",
              "      <td>0</td>\n",
              "      <td>0</td>\n",
              "      <td>0</td>\n",
              "      <td>0</td>\n",
              "      <td>0</td>\n",
              "      <td>0</td>\n",
              "      <td>0</td>\n",
              "      <td>0</td>\n",
              "      <td>0</td>\n",
              "      <td>0</td>\n",
              "      <td>0</td>\n",
              "      <td>0</td>\n",
              "      <td>0</td>\n",
              "      <td>...</td>\n",
              "      <td>0</td>\n",
              "      <td>0</td>\n",
              "      <td>0</td>\n",
              "      <td>0</td>\n",
              "      <td>0</td>\n",
              "      <td>0</td>\n",
              "      <td>0</td>\n",
              "      <td>0</td>\n",
              "      <td>0</td>\n",
              "      <td>0</td>\n",
              "      <td>0</td>\n",
              "      <td>0</td>\n",
              "      <td>0</td>\n",
              "      <td>0</td>\n",
              "      <td>0</td>\n",
              "      <td>0</td>\n",
              "      <td>0</td>\n",
              "      <td>0</td>\n",
              "      <td>0</td>\n",
              "      <td>0</td>\n",
              "      <td>0</td>\n",
              "      <td>0</td>\n",
              "      <td>0</td>\n",
              "      <td>0</td>\n",
              "      <td>0</td>\n",
              "      <td>0</td>\n",
              "      <td>0</td>\n",
              "      <td>0</td>\n",
              "      <td>0</td>\n",
              "      <td>0</td>\n",
              "      <td>0</td>\n",
              "      <td>0</td>\n",
              "      <td>0</td>\n",
              "      <td>0</td>\n",
              "      <td>0</td>\n",
              "      <td>0</td>\n",
              "      <td>0</td>\n",
              "      <td>0</td>\n",
              "      <td>0</td>\n",
              "      <td>4</td>\n",
              "    </tr>\n",
              "    <tr>\n",
              "      <th>3</th>\n",
              "      <td>0</td>\n",
              "      <td>0</td>\n",
              "      <td>0</td>\n",
              "      <td>0</td>\n",
              "      <td>0</td>\n",
              "      <td>0</td>\n",
              "      <td>0</td>\n",
              "      <td>0</td>\n",
              "      <td>0</td>\n",
              "      <td>0</td>\n",
              "      <td>0</td>\n",
              "      <td>0</td>\n",
              "      <td>0</td>\n",
              "      <td>0</td>\n",
              "      <td>0</td>\n",
              "      <td>0</td>\n",
              "      <td>0</td>\n",
              "      <td>0</td>\n",
              "      <td>0</td>\n",
              "      <td>0</td>\n",
              "      <td>0</td>\n",
              "      <td>0</td>\n",
              "      <td>0</td>\n",
              "      <td>0</td>\n",
              "      <td>0</td>\n",
              "      <td>0</td>\n",
              "      <td>0</td>\n",
              "      <td>0</td>\n",
              "      <td>0</td>\n",
              "      <td>0</td>\n",
              "      <td>0</td>\n",
              "      <td>0</td>\n",
              "      <td>0</td>\n",
              "      <td>0</td>\n",
              "      <td>0</td>\n",
              "      <td>0</td>\n",
              "      <td>0</td>\n",
              "      <td>0</td>\n",
              "      <td>0</td>\n",
              "      <td>0</td>\n",
              "      <td>...</td>\n",
              "      <td>0</td>\n",
              "      <td>0</td>\n",
              "      <td>0</td>\n",
              "      <td>0</td>\n",
              "      <td>0</td>\n",
              "      <td>0</td>\n",
              "      <td>0</td>\n",
              "      <td>0</td>\n",
              "      <td>0</td>\n",
              "      <td>0</td>\n",
              "      <td>0</td>\n",
              "      <td>0</td>\n",
              "      <td>0</td>\n",
              "      <td>0</td>\n",
              "      <td>0</td>\n",
              "      <td>0</td>\n",
              "      <td>0</td>\n",
              "      <td>0</td>\n",
              "      <td>0</td>\n",
              "      <td>0</td>\n",
              "      <td>0</td>\n",
              "      <td>0</td>\n",
              "      <td>0</td>\n",
              "      <td>0</td>\n",
              "      <td>0</td>\n",
              "      <td>0</td>\n",
              "      <td>0</td>\n",
              "      <td>0</td>\n",
              "      <td>0</td>\n",
              "      <td>0</td>\n",
              "      <td>0</td>\n",
              "      <td>0</td>\n",
              "      <td>0</td>\n",
              "      <td>0</td>\n",
              "      <td>0</td>\n",
              "      <td>0</td>\n",
              "      <td>0</td>\n",
              "      <td>0</td>\n",
              "      <td>0</td>\n",
              "      <td>1</td>\n",
              "    </tr>\n",
              "    <tr>\n",
              "      <th>4</th>\n",
              "      <td>0</td>\n",
              "      <td>0</td>\n",
              "      <td>0</td>\n",
              "      <td>0</td>\n",
              "      <td>0</td>\n",
              "      <td>0</td>\n",
              "      <td>0</td>\n",
              "      <td>0</td>\n",
              "      <td>0</td>\n",
              "      <td>0</td>\n",
              "      <td>0</td>\n",
              "      <td>0</td>\n",
              "      <td>0</td>\n",
              "      <td>0</td>\n",
              "      <td>0</td>\n",
              "      <td>0</td>\n",
              "      <td>0</td>\n",
              "      <td>0</td>\n",
              "      <td>0</td>\n",
              "      <td>0</td>\n",
              "      <td>0</td>\n",
              "      <td>0</td>\n",
              "      <td>0</td>\n",
              "      <td>0</td>\n",
              "      <td>0</td>\n",
              "      <td>0</td>\n",
              "      <td>0</td>\n",
              "      <td>0</td>\n",
              "      <td>0</td>\n",
              "      <td>0</td>\n",
              "      <td>0</td>\n",
              "      <td>0</td>\n",
              "      <td>0</td>\n",
              "      <td>0</td>\n",
              "      <td>0</td>\n",
              "      <td>0</td>\n",
              "      <td>0</td>\n",
              "      <td>0</td>\n",
              "      <td>0</td>\n",
              "      <td>0</td>\n",
              "      <td>...</td>\n",
              "      <td>252</td>\n",
              "      <td>42</td>\n",
              "      <td>0</td>\n",
              "      <td>0</td>\n",
              "      <td>0</td>\n",
              "      <td>0</td>\n",
              "      <td>0</td>\n",
              "      <td>0</td>\n",
              "      <td>0</td>\n",
              "      <td>0</td>\n",
              "      <td>0</td>\n",
              "      <td>0</td>\n",
              "      <td>0</td>\n",
              "      <td>0</td>\n",
              "      <td>0</td>\n",
              "      <td>0</td>\n",
              "      <td>0</td>\n",
              "      <td>0</td>\n",
              "      <td>0</td>\n",
              "      <td>0</td>\n",
              "      <td>0</td>\n",
              "      <td>0</td>\n",
              "      <td>0</td>\n",
              "      <td>0</td>\n",
              "      <td>0</td>\n",
              "      <td>0</td>\n",
              "      <td>0</td>\n",
              "      <td>0</td>\n",
              "      <td>0</td>\n",
              "      <td>0</td>\n",
              "      <td>0</td>\n",
              "      <td>0</td>\n",
              "      <td>0</td>\n",
              "      <td>0</td>\n",
              "      <td>0</td>\n",
              "      <td>0</td>\n",
              "      <td>0</td>\n",
              "      <td>0</td>\n",
              "      <td>0</td>\n",
              "      <td>9</td>\n",
              "    </tr>\n",
              "  </tbody>\n",
              "</table>\n",
              "<p>5 rows × 785 columns</p>\n",
              "</div>"
            ],
            "text/plain": [
              "   0  1  2  3  4  5  6  7  8  ...  776  777  778  779  780  781  782  783  label\n",
              "0  0  0  0  0  0  0  0  0  0  ...    0    0    0    0    0    0    0    0      5\n",
              "1  0  0  0  0  0  0  0  0  0  ...    0    0    0    0    0    0    0    0      0\n",
              "2  0  0  0  0  0  0  0  0  0  ...    0    0    0    0    0    0    0    0      4\n",
              "3  0  0  0  0  0  0  0  0  0  ...    0    0    0    0    0    0    0    0      1\n",
              "4  0  0  0  0  0  0  0  0  0  ...    0    0    0    0    0    0    0    0      9\n",
              "\n",
              "[5 rows x 785 columns]"
            ]
          },
          "metadata": {},
          "execution_count": 3
        }
      ]
    },
    {
      "cell_type": "markdown",
      "metadata": {
        "id": "Vop4rwZVxh9Z"
      },
      "source": [
        "##4) Shuffle and Split TRAINING data as train (also called development) (80%) and validation (20%) "
      ]
    },
    {
      "cell_type": "code",
      "metadata": {
        "id": "KEhk8R24xhdY",
        "colab": {
          "base_uri": "https://localhost:8080/"
        },
        "outputId": "78dde6a7-305e-44d9-afee-7c683c3f9c07"
      },
      "source": [
        "from sklearn.utils import shuffle\n",
        "\n",
        "# Shuffle the training data\n",
        "print(\"Shuffling process has started\")\n",
        "x_trainf, y_train = shuffle(x_trainf, y_train, random_state = 42)\n",
        "print(\"Shuffling process has finished where random state equals to 42\")\n",
        "# Split 80-20\n",
        "\n",
        "from sklearn.model_selection import train_test_split\n",
        "xtrain, xval, ytrain, yval = train_test_split(x_trainf, y_train, \n",
        "                                              test_size = 0.2, \n",
        "                                              random_state = 42)\n",
        "print(\"\\nAfter splitting process\")\n",
        "print('Data Dimensionality: ')\n",
        "print(\"Train data shape is as follows: \", xtrain.shape)\n",
        "print(\"Validation data shape is as follows: \", xval.shape)\n",
        "print(\"Train label data shape is as follows: \", ytrain.shape)\n",
        "print(\"Validation label data shape is as follows: \", yval.shape)"
      ],
      "execution_count": null,
      "outputs": [
        {
          "output_type": "stream",
          "name": "stdout",
          "text": [
            "Shuffling process has started\n",
            "Shuffling process has finished where random state equals to 42\n",
            "\n",
            "After splitting process\n",
            "Data Dimensionality: \n",
            "Train data shape is as follows:  (48000, 784)\n",
            "Validation data shape is as follows:  (12000, 784)\n",
            "Train label data shape is as follows:  (48000,)\n",
            "Validation label data shape is as follows:  (12000,)\n"
          ]
        }
      ]
    },
    {
      "cell_type": "markdown",
      "metadata": {
        "id": "xR1oMsPu0AV_"
      },
      "source": [
        "##5) Train decision tree and k-NN  classifiers on development data and do model selection using the validation data\n",
        "\n",
        "\n",
        "* Train a decision tree (try  4 different meta-parameters, varying max_depth and min_samples_split. You should play with different values, maybe 10 or 20 for max-depth and 100 or 200 for min_samples_split) and a k-NN classifier (use k=3 and k=7, do not try other values) with the rest of the parameters set to default. \n",
        "\n",
        "* The aim in this homework is not necessarily obtaining the best performance, but to establish the ML pipeline (train a few models, select based on validation set, test, report).\n"
      ]
    },
    {
      "cell_type": "code",
      "metadata": {
        "id": "Nv6oac-T3Wy5",
        "colab": {
          "base_uri": "https://localhost:8080/"
        },
        "outputId": "717c7e7c-e419-41ab-ac6d-989eac1ab03d"
      },
      "source": [
        "# Train Decision Tree classifier\n",
        "from sklearn.tree import DecisionTreeClassifier\n",
        "from sklearn.metrics import accuracy_score\n",
        "start = timer()\n",
        "max_depth_array = np.arange(10, 21, 5)\n",
        "min_samples_array = [25, 50, 100]\n",
        "best_acc = 0\n",
        "best_depth = 0\n",
        "best_sample_split = 0\n",
        "accs = []\n",
        "for i in max_depth_array:\n",
        "  for j in min_samples_array:\n",
        "    decision_tree = DecisionTreeClassifier(max_depth = i, min_samples_split = j)\n",
        "    decision_tree.fit(xtrain, ytrain)\n",
        "    ypred_on_train = decision_tree.predict(xtrain)\n",
        "    acc_score = accuracy_score(ytrain, ypred_on_train)\n",
        "    print(\"Training Accuracy is \", acc_score, \n",
        "          \", obtained with maximum depth = \", i, \" and min_samples_split = \", j)\n",
        "    accs.append(acc_score)\n",
        "    if(acc_score > best_acc):\n",
        "      best_acc = acc_score\n",
        "      best_depth = i \n",
        "      best_sample_split = j\n",
        "# ...\n",
        "end = timer()\n",
        "print(\"\\nBest training accuracy is \", \n",
        "      best_acc, \", obtained with maximum depth = \", \n",
        "      best_depth, \" and min_samples_split = \", best_sample_split)\n",
        "print(\"Total time = \", '{:.3f}'.format((end-start)), \"s\")\n",
        "# Report your results    "
      ],
      "execution_count": null,
      "outputs": [
        {
          "output_type": "stream",
          "name": "stdout",
          "text": [
            "Training Accuracy is  0.8934166666666666 , obtained with maximum depth =  10  and min_samples_split =  25\n",
            "Training Accuracy is  0.8811875 , obtained with maximum depth =  10  and min_samples_split =  50\n",
            "Training Accuracy is  0.8620416666666667 , obtained with maximum depth =  10  and min_samples_split =  100\n",
            "Training Accuracy is  0.9302083333333333 , obtained with maximum depth =  15  and min_samples_split =  25\n",
            "Training Accuracy is  0.9065416666666667 , obtained with maximum depth =  15  and min_samples_split =  50\n",
            "Training Accuracy is  0.8762083333333334 , obtained with maximum depth =  15  and min_samples_split =  100\n",
            "Training Accuracy is  0.9326458333333333 , obtained with maximum depth =  20  and min_samples_split =  25\n",
            "Training Accuracy is  0.908125 , obtained with maximum depth =  20  and min_samples_split =  50\n",
            "Training Accuracy is  0.8772708333333333 , obtained with maximum depth =  20  and min_samples_split =  100\n",
            "\n",
            "Best training accuracy is  0.9326458333333333 , obtained with maximum depth =  20  and min_samples_split =  25\n",
            "Total time =  77.472 s\n"
          ]
        }
      ]
    },
    {
      "cell_type": "code",
      "metadata": {
        "colab": {
          "base_uri": "https://localhost:8080/",
          "height": 609
        },
        "id": "NKZeoMHks7Un",
        "outputId": "d97bf902-2faf-48c5-fd61-c485e68717cc"
      },
      "source": [
        "plt.figure(figsize = (15, 10))\n",
        "x_axis = ['split = 25', 'split = 50', 'split = 100']\n",
        "axes0_acc = [accs[0] , accs[1], accs[2]] \n",
        "axes1_acc = [accs[3] , accs[4], accs[5]] \n",
        "axes2_acc = [accs[6] , accs[7], accs[8]] \n",
        "plt.scatter(x_axis, axes0_acc)\n",
        "plt.scatter(x_axis, axes1_acc)\n",
        "plt.scatter(x_axis, axes2_acc)\n",
        "\n",
        "plt.plot(x_axis, axes0_acc, color = \"blue\", label = \"Max depth = 10\")\n",
        "plt.plot(x_axis, axes1_acc, color = \"red\", label = \"Max depth = 15\")\n",
        "plt.plot(x_axis, axes2_acc, color = \"green\", label = \"Max depth = 20\")\n",
        "\n",
        "plt.title(\"Decision Tree Training accuracy\",fontsize = 16)\n",
        "plt.grid(True)\n",
        "plt.legend()\n",
        "plt.show()"
      ],
      "execution_count": null,
      "outputs": [
        {
          "output_type": "display_data",
          "data": {
            "image/png": "[encoded data removed]",
            "text/plain": [
              "<Figure size 1080x720 with 1 Axes>"
            ]
          },
          "metadata": {
            "needs_background": "light"
          }
        }
      ]
    },
    {
      "cell_type": "code",
      "metadata": {
        "colab": {
          "base_uri": "https://localhost:8080/"
        },
        "id": "zGXQ9b-VqXYW",
        "outputId": "b6111763-c9d2-4ded-b724-5ddbd244fb8f"
      },
      "source": [
        "# Train k-NN classifiers\n",
        "from sklearn.neighbors import KNeighborsClassifier\n",
        "k_array = np.arange(3,8, 4)\n",
        "best_acc_knn = 0\n",
        "best_k = 0\n",
        "accs_knn = []\n",
        "start = timer()\n",
        "for i in k_array:\n",
        "  knn1 = KNeighborsClassifier(n_neighbors = i, algorithm= \"brute\") \n",
        "  # since we have a lot of features\n",
        "  knn1.fit(xtrain, ytrain)\n",
        "  ypred_on_train_knn = knn1.predict(xtrain)\n",
        "  acc_score_knn = accuracy_score(ytrain, ypred_on_train_knn)\n",
        "  print(\"Training Accuracy is \", acc_score_knn, \", with k = \", i)\n",
        "  accs_knn.append(acc_score_knn)\n",
        "  if(acc_score_knn > best_acc_knn):\n",
        "    best_acc_knn = acc_score_knn\n",
        "    best_k = i \n",
        "end = timer()\n",
        "print(\"\\nBest Training Accuracy is \", best_acc_knn, \", with k = \", best_k)\n",
        "print(\"Total time = \", '{:.3f}'.format((end-start)), \"s\")\n",
        "\n",
        "# Report your results "
      ],
      "execution_count": null,
      "outputs": [
        {
          "output_type": "stream",
          "name": "stdout",
          "text": [
            "Training Accuracy is  0.9852708333333333 , with k =  3\n",
            "Training Accuracy is  0.9767083333333333 , with k =  7\n",
            "\n",
            "Best Training Accuracy is  0.9852708333333333 , with k =  3\n",
            "Total time =  294.337 s\n"
          ]
        }
      ]
    },
    {
      "cell_type": "code",
      "metadata": {
        "colab": {
          "base_uri": "https://localhost:8080/",
          "height": 609
        },
        "id": "CucusL92yKPm",
        "outputId": "5953895d-0121-4927-a3f7-f1a1596292cf"
      },
      "source": [
        "plt.figure(figsize = (15, 10))\n",
        "x_axis = ['k = 3', 'k = 7']\n",
        "axes0_acc = [accs_knn[0], accs_knn[1]] \n",
        "\n",
        "plt.scatter(x_axis, axes0_acc)\n",
        "\n",
        "plt.plot(x_axis, axes0_acc, color = \"blue\", label = \"k-scores\")\n",
        "plt.title(\"KNN Training accuracy\",fontsize = 16)\n",
        "plt.grid(True)\n",
        "plt.legend()\n",
        "plt.show()"
      ],
      "execution_count": null,
      "outputs": [
        {
          "output_type": "display_data",
          "data": {
            "image/png": "[encoded data removed]",
            "text/plain": [
              "<Figure size 1080x720 with 1 Axes>"
            ]
          },
          "metadata": {
            "needs_background": "light"
          }
        }
      ]
    },
    {
      "cell_type": "markdown",
      "metadata": {
        "id": "3w3lQaMLTBdy"
      },
      "source": [
        "## 6) Test your trained classifiers on the Validation set\n",
        "Test your trained classifiers on the validation set and print the accuracies.\n"
      ]
    },
    {
      "cell_type": "code",
      "metadata": {
        "id": "HR49eNZ0TD0c",
        "colab": {
          "base_uri": "https://localhost:8080/"
        },
        "outputId": "30311684-a117-4c7a-bd75-108bf7b8a2ad"
      },
      "source": [
        "from sklearn.metrics import accuracy_score\n",
        "\n",
        "# Use misclassification rate as error measure\n",
        "\n",
        "start = timer()\n",
        "best_acc = 0\n",
        "best_depth = 0\n",
        "best_sample_split = 0\n",
        "accs = []\n",
        "for i in max_depth_array:\n",
        "  for j in min_samples_array:\n",
        "    decision_tree = DecisionTreeClassifier(max_depth = i, min_samples_split = j)\n",
        "    decision_tree.fit(xtrain, ytrain)\n",
        "    ypred_on_val = decision_tree.predict(xval)\n",
        "    acc_score = accuracy_score(yval, ypred_on_val)\n",
        "    misclassification_rate = 1 - acc_score\n",
        "    print(\"Validation Accuracy is \", \n",
        "          acc_score, \" and misclassification rate is \",\n",
        "          '{:.5f}'.format(misclassification_rate) ,\n",
        "          \"obtained with maximum depth = \", i, \" and min_samples_split = \", j)\n",
        "    accs.append(acc_score)\n",
        "    if(acc_score > best_acc):\n",
        "      best_acc = acc_score\n",
        "      best_depth = i \n",
        "      best_sample_split = j\n",
        "# ...\n",
        "end = timer()\n",
        "print(\"\\nBest validation accuracy is \", \n",
        "      best_acc,\" and misclassification rate is \",\n",
        "      1 - best_acc, \", obtained with maximum depth = \", \n",
        "      best_depth, \" and min_samples_split = \", best_sample_split)\n",
        "print(\"Total time = \", '{:.3f}'.format((end-start)), \"s\")\n",
        "\n",
        "\n",
        "# Report your results\n",
        "\n",
        "\n"
      ],
      "execution_count": null,
      "outputs": [
        {
          "output_type": "stream",
          "name": "stdout",
          "text": [
            "Validation Accuracy is  0.8506666666666667  and misclassification rate is  0.14933 obtained with maximum depth =  10  and min_samples_split =  25\n",
            "Validation Accuracy is  0.8428333333333333  and misclassification rate is  0.15717 obtained with maximum depth =  10  and min_samples_split =  50\n",
            "Validation Accuracy is  0.832  and misclassification rate is  0.16800 obtained with maximum depth =  10  and min_samples_split =  100\n",
            "Validation Accuracy is  0.86475  and misclassification rate is  0.13525 obtained with maximum depth =  15  and min_samples_split =  25\n",
            "Validation Accuracy is  0.85475  and misclassification rate is  0.14525 obtained with maximum depth =  15  and min_samples_split =  50\n",
            "Validation Accuracy is  0.8406666666666667  and misclassification rate is  0.15933 obtained with maximum depth =  15  and min_samples_split =  100\n",
            "Validation Accuracy is  0.86425  and misclassification rate is  0.13575 obtained with maximum depth =  20  and min_samples_split =  25\n",
            "Validation Accuracy is  0.8545833333333334  and misclassification rate is  0.14542 obtained with maximum depth =  20  and min_samples_split =  50\n",
            "Validation Accuracy is  0.8400833333333333  and misclassification rate is  0.15992 obtained with maximum depth =  20  and min_samples_split =  100\n",
            "\n",
            "Best validation accuracy is  0.86475  and misclassification rate is  0.13524999999999998 , obtained with maximum depth =  15  and min_samples_split =  25\n",
            "Total time =  77.149 s\n"
          ]
        }
      ]
    },
    {
      "cell_type": "code",
      "metadata": {
        "colab": {
          "base_uri": "https://localhost:8080/",
          "height": 609
        },
        "id": "jsDv2lQHfqJt",
        "outputId": "8e3b4634-c6ad-4474-9d0b-9640409445b9"
      },
      "source": [
        "plt.figure(figsize = (15, 10))\n",
        "x_axis = ['split = 25', 'split = 50', 'split = 100']\n",
        "axes0_acc = [accs[0] , accs[1], accs[2]] \n",
        "axes1_acc = [accs[3] , accs[4], accs[5]] \n",
        "axes2_acc = [accs[6] , accs[7], accs[8]] \n",
        "plt.scatter(x_axis, axes0_acc)\n",
        "plt.scatter(x_axis, axes1_acc)\n",
        "plt.scatter(x_axis, axes2_acc)\n",
        "\n",
        "plt.plot(x_axis, axes0_acc, color = \"blue\", label = \"Max depth = 10\")\n",
        "plt.plot(x_axis, axes1_acc, color = \"red\", label = \"Max depth = 15\")\n",
        "plt.plot(x_axis, axes2_acc, color = \"green\", label = \"Max depth = 20\")\n",
        "\n",
        "plt.title(\"Decision Tree Validation accuracy\",fontsize = 16)\n",
        "plt.grid(True)\n",
        "plt.legend()\n",
        "plt.show()"
      ],
      "execution_count": null,
      "outputs": [
        {
          "output_type": "display_data",
          "data": {
            "image/png": "[encoded data removed]",
            "text/plain": [
              "<Figure size 1080x720 with 1 Axes>"
            ]
          },
          "metadata": {
            "needs_background": "light"
          }
        }
      ]
    },
    {
      "cell_type": "code",
      "metadata": {
        "colab": {
          "base_uri": "https://localhost:8080/"
        },
        "id": "QIBlcZwEdarC",
        "outputId": "ea5248c2-fc00-45fe-c28a-c1e4b0a57f50"
      },
      "source": [
        "start = timer()\n",
        "best_acc_knn = 0\n",
        "best_k = 0\n",
        "accs_knn = []\n",
        "for i in k_array:\n",
        "  knn1 = KNeighborsClassifier(n_neighbors = i, algorithm= \"brute\") \n",
        "  # since we have a lot of features\n",
        "  knn1.fit(xtrain, ytrain)\n",
        "  ypred_on_val_knn = knn1.predict(xval)\n",
        "  acc_score_knn = accuracy_score(yval, ypred_on_val_knn)\n",
        "  print(\"Validation Accuracy is \", acc_score_knn, \", with k = \", i)\n",
        "  accs_knn.append(acc_score_knn)\n",
        "  if(acc_score_knn > best_acc_knn):\n",
        "    best_acc_knn = acc_score_knn\n",
        "    best_k = i \n",
        "end = timer()\n",
        "print(\"\\nBest Validation Accuracy is \", best_acc_knn, \", with k = \", best_k)\n",
        "print(\"Total time = \", '{:.3f}'.format((end-start)), \"s\")\n"
      ],
      "execution_count": null,
      "outputs": [
        {
          "output_type": "stream",
          "name": "stdout",
          "text": [
            "Validation Accuracy is  0.9711666666666666 , with k =  3\n",
            "Validation Accuracy is  0.9703333333333334 , with k =  7\n",
            "\n",
            "Best Validation Accuracy is  0.9711666666666666 , with k =  3\n",
            "Total time =  73.557 s\n"
          ]
        }
      ]
    },
    {
      "cell_type": "code",
      "metadata": {
        "colab": {
          "base_uri": "https://localhost:8080/",
          "height": 555
        },
        "id": "l3SfiqAUz4XP",
        "outputId": "721aa3cb-5407-4e4c-f9b6-16e4da3ab70e"
      },
      "source": [
        "plt.figure(figsize = (14, 9))\n",
        "x_axis = ['k =3', 'k = 7']\n",
        "axes0_acc = [accs_knn[0], accs_knn[1]] \n",
        "\n",
        "plt.scatter(x_axis, axes0_acc)\n",
        "\n",
        "plt.plot(x_axis, axes0_acc, color = \"blue\", label = \"k-scores\")\n",
        "plt.title(\"KNN Validation accuracy\",fontsize = 16)\n",
        "plt.grid(True)\n",
        "plt.legend()\n",
        "plt.show()"
      ],
      "execution_count": null,
      "outputs": [
        {
          "output_type": "display_data",
          "data": {
            "image/png": "[encoded data removed]",
            "text/plain": [
              "<Figure size 1008x648 with 1 Axes>"
            ]
          },
          "metadata": {
            "needs_background": "light"
          }
        }
      ]
    },
    {
      "cell_type": "markdown",
      "metadata": {
        "id": "boqe46St1--f"
      },
      "source": [
        "## 7) Test your classifier on Test set\n",
        "\n",
        "- Load test data\n",
        "- Apply same pre-processing as training data (probably none)\n",
        "- Predict the labels of testing data **using the best model that you have selected according to your validation results** and report the accuracy. "
      ]
    },
    {
      "cell_type": "code",
      "metadata": {
        "id": "IPLke8jyFGng",
        "colab": {
          "base_uri": "https://localhost:8080/"
        },
        "outputId": "79a0ab45-97b1-4652-9d67-d3564becd107"
      },
      "source": [
        "from sklearn.metrics import accuracy_score\n",
        "# Load test data\n",
        "# I have already loaded test data and applied the pre-processing \n",
        "# Hence, I will use it directly\n",
        "start = timer()\n",
        "# Predict\n",
        "decision_tree = DecisionTreeClassifier(max_depth = best_depth, min_samples_split = best_sample_split)\n",
        "decision_tree.fit(xtrain, ytrain)\n",
        "ypred_on_test = decision_tree.predict(x_testf)\n",
        "acc_score_test = accuracy_score(y_test, ypred_on_test)\n",
        "end = timer()\n",
        "\n",
        "# Report your result\n",
        "print(\"Accuracy is \", acc_score_test, \" and misclassification rate is \", '{:.4f}'.format((1 - acc_score_test)), \", obtained with maximum depth = \", best_depth, \" and min_samples_split = \", best_sample_split)\n",
        "print(\"Total time = \", '{:.3f}'.format((end-start)), \"s\")   \n",
        "\n",
        "\n",
        "\n",
        "\n"
      ],
      "execution_count": null,
      "outputs": [
        {
          "output_type": "stream",
          "name": "stdout",
          "text": [
            "Accuracy is  0.8651  and misclassification rate is  0.1349 , obtained with maximum depth =  15  and min_samples_split =  25\n",
            "Total time =  8.993 s\n"
          ]
        }
      ]
    },
    {
      "cell_type": "code",
      "metadata": {
        "colab": {
          "base_uri": "https://localhost:8080/"
        },
        "id": "InRkqAE-ksXD",
        "outputId": "bc0c347b-12aa-4be1-9e97-229d1408a076"
      },
      "source": [
        "start = timer()\n",
        "\n",
        "# Predict\n",
        "knn1 = KNeighborsClassifier(n_neighbors = best_k, algorithm= \"brute\") # since we have a lot of features\n",
        "knn1.fit(xtrain, ytrain)\n",
        "ypred_on_test_knn = knn1.predict(x_testf)\n",
        "acc_score_knn_test = accuracy_score(y_test, ypred_on_test_knn)\n",
        "end = timer()\n",
        "\n",
        "# Report your result\n",
        "print(\"Accuracy is \", acc_score_knn_test, \" and misclassification rate is \", '{:.4f}'.format((1 - acc_score_knn_test)),\", with k = \", best_k)\n",
        "print(\"Total time = \", '{:.3f}'.format((end-start)), \"s\")"
      ],
      "execution_count": null,
      "outputs": [
        {
          "output_type": "stream",
          "name": "stdout",
          "text": [
            "Accuracy is  0.9691  and misclassification rate is  0.0309 , with k =  3\n",
            "Total time =  27.691 s\n"
          ]
        }
      ]
    },
    {
      "cell_type": "markdown",
      "metadata": {
        "id": "WG3473I9dGE8"
      },
      "source": [
        "##8) Report Your Results\n",
        "\n",
        "**Notebook should be RUN:** As training and testing may take a long time, we may just look at your notebook results; so make sure **each cell is run**, so outputs are there.\n",
        "\n",
        "**Report:** Write an **one page summary** of your approach to this problem **below**; this should be like an abstract of a paper or the executive summary (you aim for clarity and passing on information, not going to details about known facts such as what kNN is or what MNIST is, assuming they are known to people in your research area). \n",
        "\n",
        "**Must include statements such as those below:**\n",
        "**(Remove the text in parentheses, below, and include your own report)**\n",
        "\n",
        "( Include the problem definition: 1-2 lines )\n",
        "\n",
        " (Talk about train/val/test sets, size and how split. )\n",
        "\n",
        " (In here you would also talk about feature extraction or preprocessing - but here we dont do any.)\n",
        "\n",
        " ( Give the validation accuracies for different approach and meta-parameters tried **in a table** and state which one you selected as your model.)\n",
        "\n",
        "( State  what your test results are with the chosen approach and meta-parameters: e.g. \"We have obtained the best results on the validation set with the ..........approach using a value of ...... for .... parameter. The result of this model on the test data is ..... % accuracy.\"\" \n",
        "\n",
        " (Comment on the speed of the different approaches and anything else that you deem important/interesting (e.g. confusion matrix)). \n",
        "\n",
        " You can add additional visualization as separate pages if you want, think of them as appendix, keeping the one-page as abstract/summary.\n",
        " \n",
        "As long as you have the essential info summarizing what you have done and your results, exact format or extra content (like what you may find interesting) does not matter. You will get full points from here as long as you have a good (enough) summary of your work, regardless of your best performance or what you have decided to talk about in the last few lines.\n",
        "\n"
      ]
    },
    {
      "cell_type": "markdown",
      "metadata": {
        "id": "HGqZd2kr703N"
      },
      "source": [
        "### CS412 HW1 Report \n",
        "**İlker Gül - 26352**\n",
        "\n",
        "  The problem was to classify grayscale digit images from the MNIST dataset using **Decision Tree** and **K-NN** classifiers trained on training data. Then, based on the validation accuracy scores, select the best model and evaluate its performance on the given test data.\n",
        "\n",
        "  MNIST dataset includes train and test sets, with the train set containing 60,000 samples and the test set containing 10,000 samples. Before splitting the training set into train and validation sets, it was shuffled. The training set was then divided into train and validation sets by allocating 80% of the data(48,000) to the train set and 20% of the data(12,000) to the validation set.\n",
        "\n",
        "  Reshaping the train and test data can be mentioned in terms of preprocessing. The training and testing data were both 3D numpy arrays. We flattened the data to 2D by reshaping it without losing any of the data's information. Furthermore, the training dataset was converted to a DataFrame using the Pandas library in order to display the attributes and see dataset samples.\n",
        "\n",
        "  As stated in the premise, while training decision tree classifier models, different meta-parameters varying max-depth and min_samples_split were used. I chose 10, 15, and 20 for **max-depth**, and 25, 50, and 100 for **min_samples_split** meta-parameters. I came up with different accuracy values that are so close to each other by experimenting with the values of the aforementioned meta-parameters. In addition, I calculated the accuracy results of the models for the train set, the results of which can be found in section five.\n",
        "  \n",
        "  In the table below, you can see the validation set accuracy results;\n",
        "\n",
        "  **Decision Tree Validation Accuracy Results**\n",
        "  >Validation Accuracy Results | min_samples_split = 25 | min_samples_split = 50| min_samples_split = 100 |\n",
        ">---|---|:---|:---|\n",
        ">Max depth = 10|0.85066|0.84823|0.832|\n",
        ">Max depth = 15|**0.86475**|0.85475|0.84066|\n",
        ">Max depth = 20|0.86425|0.85458|0.84008|\n",
        "\n",
        "  I looked at the train set accuracy and the validation set accuracy with priority when deciding which model to use in the test set. After reviewing the model scores, the model with max-depth = 15, min_samples_split = 25 has the highest accuracy score (in other words, the least error among the models) for validation set and the second best accuracy score for train set. Because the accuracy score of the validation test is very important in selecting the model, I chose this model for the test set.\n",
        "\n",
        "  As stated in the premise, while training K-NN classifier models, k=3 and k=7 were used. I came up with different accuracy values that are so close to each other.\n",
        "\n",
        "  In the table below, you can see the validation set accuracy results;\n",
        "\n",
        "**K-NN Validation Accuracy Results**\n",
        ">Validation Accuracy Results | Accuracy Score | \n",
        ">---|---|\n",
        ">k = 3|**0.97116**|\n",
        ">k = 7| 0.97033|\n",
        "\n",
        "  After reviewing the model scores, the model with k = 3 has the highest accuracy score (in other words, the least error among the models) for validation set. In addition, it has the highest accuracy score for train set. Therefore, I chose this model.\n",
        "\n",
        "  After selecting the models for Decision Tree and K-NN, we calculated the accuracy scores of each model with the test data. The accuracy scores of the each model can be found in the table below.\n",
        "\n",
        "**Test Set Accuracy Results**\n",
        ">Test Set Accuracy Results | Accuracy Score | \n",
        ">---|---|\n",
        ">Decision Tree Classifier with max depth = 15, min_samples_split = 25|0.8651|\n",
        ">K-NN Classifier with k = 3| 0.9691|\n",
        "\n",
        "  To see the the total time spended on each model, I use *default_timer* library. Although I use 9 different models for Decision Tree for validation set, total time was 77.149 s. However, 2 different models were used for validation set and it took 73.557 s. I applied the same models for train set accuracy where decision tree models took 77.472 s while k-nn models took 294.337 s. Finally, for train set decision tree model took 8.993 s while knn model took 27.691 s. After checking time costs for train, validation and test sets; I can state that K-NN classifier was slower than Decision Tree classifier.\n",
        "\n",
        "  In conclusion, I find very interesting to see the differences of k-nn and decision tree with respect to accuracy scores. I, additionally, saw the importance of checking the accuracy score on validation set while varying with meta-parameters to choose the best model for test set.\n",
        "\n",
        "\n",
        "\n",
        "\n",
        "\n",
        "\n"
      ]
    },
    {
      "cell_type": "markdown",
      "metadata": {
        "id": "oPZ9oBTcedsO"
      },
      "source": [
        "### Link for access\n",
        "\n",
        "https://colab.research.google.com/drive/1dndUr6eCmUUn15RR8sKdnC6B31FBI0L2?usp=sharing"
      ]
    }
  ]
}